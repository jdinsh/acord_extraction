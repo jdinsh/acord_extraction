{
 "cells": [
  {
   "cell_type": "code",
   "execution_count": 1,
   "metadata": {},
   "outputs": [],
   "source": [
    "from wand.image import Image\n",
    "from wand.api import library\n",
    "import ctypes\n",
    "import requests"
   ]
  },
  {
   "cell_type": "code",
   "execution_count": 2,
   "metadata": {},
   "outputs": [],
   "source": [
    "# Map C-API not provided by wand library.\n",
    "library.MagickAppendImages.argtypes = [ctypes.c_void_p, ctypes.c_int]\n",
    "library.MagickAppendImages.restype = ctypes.c_void_p\n"
   ]
  },
  {
   "cell_type": "code",
   "execution_count": 3,
   "metadata": {},
   "outputs": [],
   "source": [
    "PDF_file = \"/Users/admin/Desktop/Acord125Typed.pdf\""
   ]
  },
  {
   "cell_type": "code",
   "execution_count": 7,
   "metadata": {},
   "outputs": [
    {
     "name": "stdout",
     "output_type": "stream",
     "text": [
      "width = 612\n",
      "height = 792\n",
      "pages =  4\n",
      "resolution =  (72, 72)\n"
     ]
    }
   ],
   "source": [
    "with Image(filename=PDF_file) as img:\n",
    "    print('width =', img.width)\n",
    "    print('height =', img.height)\n",
    "    print('pages = ', len(img.sequence))\n",
    "    print('resolution = ', img.resolution)\n",
    "\n",
    "    with img.convert('png') as converted:\n",
    "        converted.save(filename='page.png')"
   ]
  },
  {
   "cell_type": "code",
   "execution_count": null,
   "metadata": {},
   "outputs": [],
   "source": []
  }
 ],
 "metadata": {
  "kernelspec": {
   "display_name": "Python 3",
   "language": "python",
   "name": "python3"
  },
  "language_info": {
   "codemirror_mode": {
    "name": "ipython",
    "version": 3
   },
   "file_extension": ".py",
   "mimetype": "text/x-python",
   "name": "python",
   "nbconvert_exporter": "python",
   "pygments_lexer": "ipython3",
   "version": "3.6.7"
  }
 },
 "nbformat": 4,
 "nbformat_minor": 2
}
